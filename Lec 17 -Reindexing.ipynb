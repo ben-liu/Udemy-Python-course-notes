{
 "cells": [
  {
   "cell_type": "code",
   "execution_count": 6,
   "metadata": {
    "collapsed": false
   },
   "outputs": [],
   "source": [
    "import numpy as np\n",
    "from pandas import Series, DataFrame\n",
    "import pandas as pd\n",
    "from numpy.random import randn"
   ]
  },
  {
   "cell_type": "code",
   "execution_count": 9,
   "metadata": {
    "collapsed": false
   },
   "outputs": [
    {
     "data": {
      "text/plain": [
       "A    1\n",
       "B    2\n",
       "C    3\n",
       "D    4\n",
       "dtype: int64"
      ]
     },
     "execution_count": 9,
     "metadata": {},
     "output_type": "execute_result"
    }
   ],
   "source": [
    "# create a new series\n",
    "ser1 = Series([1,2,3,4],index=['A','B','C','D'])\n",
    "ser1"
   ]
  },
  {
   "cell_type": "code",
   "execution_count": 10,
   "metadata": {
    "collapsed": false
   },
   "outputs": [
    {
     "data": {
      "text/plain": [
       "A     1\n",
       "B     2\n",
       "C     3\n",
       "D     4\n",
       "E   NaN\n",
       "F   NaN\n",
       "dtype: float64"
      ]
     },
     "execution_count": 10,
     "metadata": {},
     "output_type": "execute_result"
    }
   ],
   "source": [
    "# Call reindex to rearrange the data to a new index\n",
    "ser2 = ser1.reindex(['A','B','C','D','E','F'])\n",
    "ser2"
   ]
  },
  {
   "cell_type": "code",
   "execution_count": 11,
   "metadata": {
    "collapsed": false
   },
   "outputs": [
    {
     "data": {
      "text/plain": [
       "A     1\n",
       "B     2\n",
       "C     3\n",
       "D     4\n",
       "E   NaN\n",
       "F   NaN\n",
       "G     0\n",
       "dtype: float64"
      ]
     },
     "execution_count": 11,
     "metadata": {},
     "output_type": "execute_result"
    }
   ],
   "source": [
    "# We can also fill in values for new indexes\n",
    "ser2.reindex(['A','B','C','D','E','F','G'],fill_value=0)"
   ]
  },
  {
   "cell_type": "code",
   "execution_count": 12,
   "metadata": {
    "collapsed": false
   },
   "outputs": [
    {
     "data": {
      "text/plain": [
       "0        USA\n",
       "5     Mexico\n",
       "10    Canada\n",
       "dtype: object"
      ]
     },
     "execution_count": 12,
     "metadata": {},
     "output_type": "execute_result"
    }
   ],
   "source": [
    "#Using a particular method for filling values\n",
    "ser3 = Series(['USA','Mexico','Canada'],index=[0,5,10])\n",
    "ser3"
   ]
  },
  {
   "cell_type": "code",
   "execution_count": 15,
   "metadata": {
    "collapsed": false
   },
   "outputs": [
    {
     "data": {
      "text/plain": [
       "0        USA\n",
       "1        USA\n",
       "2        USA\n",
       "3        USA\n",
       "4        USA\n",
       "5     Mexico\n",
       "6     Mexico\n",
       "7     Mexico\n",
       "8     Mexico\n",
       "9     Mexico\n",
       "10    Canada\n",
       "11    Canada\n",
       "12    Canada\n",
       "13    Canada\n",
       "14    Canada\n",
       "dtype: object"
      ]
     },
     "execution_count": 15,
     "metadata": {},
     "output_type": "execute_result"
    }
   ],
   "source": [
    "#Can use a forward fill for interploating values vetween indices \n",
    "ser3.reindex(range(15),method='ffill')"
   ]
  },
  {
   "cell_type": "code",
   "execution_count": 16,
   "metadata": {
    "collapsed": false
   },
   "outputs": [
    {
     "data": {
      "text/html": [
       "<div style=\"max-height:1000px;max-width:1500px;overflow:auto;\">\n",
       "<table border=\"1\" class=\"dataframe\">\n",
       "  <thead>\n",
       "    <tr style=\"text-align: right;\">\n",
       "      <th></th>\n",
       "      <th>col1</th>\n",
       "      <th>col2</th>\n",
       "      <th>col3</th>\n",
       "      <th>col4</th>\n",
       "      <th>col5</th>\n",
       "    </tr>\n",
       "  </thead>\n",
       "  <tbody>\n",
       "    <tr>\n",
       "      <th>A</th>\n",
       "      <td>-1.452995</td>\n",
       "      <td>-0.521474</td>\n",
       "      <td>-0.678777</td>\n",
       "      <td>0.031410</td>\n",
       "      <td>-1.035644</td>\n",
       "    </tr>\n",
       "    <tr>\n",
       "      <th>B</th>\n",
       "      <td>-0.358609</td>\n",
       "      <td>0.958648</td>\n",
       "      <td>-0.732270</td>\n",
       "      <td>1.845991</td>\n",
       "      <td>0.301207</td>\n",
       "    </tr>\n",
       "    <tr>\n",
       "      <th>D</th>\n",
       "      <td>-1.216839</td>\n",
       "      <td>0.784711</td>\n",
       "      <td>-1.257899</td>\n",
       "      <td>0.567645</td>\n",
       "      <td>-1.196860</td>\n",
       "    </tr>\n",
       "    <tr>\n",
       "      <th>E</th>\n",
       "      <td>1.274616</td>\n",
       "      <td>-0.038463</td>\n",
       "      <td>-0.589243</td>\n",
       "      <td>-0.301562</td>\n",
       "      <td>-0.822738</td>\n",
       "    </tr>\n",
       "    <tr>\n",
       "      <th>F</th>\n",
       "      <td>1.075749</td>\n",
       "      <td>-2.550443</td>\n",
       "      <td>-1.079883</td>\n",
       "      <td>1.136129</td>\n",
       "      <td>0.700596</td>\n",
       "    </tr>\n",
       "  </tbody>\n",
       "</table>\n",
       "</div>"
      ],
      "text/plain": [
       "       col1      col2      col3      col4      col5\n",
       "A -1.452995 -0.521474 -0.678777  0.031410 -1.035644\n",
       "B -0.358609  0.958648 -0.732270  1.845991  0.301207\n",
       "D -1.216839  0.784711 -1.257899  0.567645 -1.196860\n",
       "E  1.274616 -0.038463 -0.589243 -0.301562 -0.822738\n",
       "F  1.075749 -2.550443 -1.079883  1.136129  0.700596"
      ]
     },
     "execution_count": 16,
     "metadata": {},
     "output_type": "execute_result"
    }
   ],
   "source": [
    "#Reindexing rows, columns or both\n",
    "\n",
    "# create a dataframe with some random values\n",
    "dframe = DataFrame(randn(25).reshape((5,5)),index=['A','B','D','E','F'],columns=['col1','col2','col3','col4','col5'])\n",
    "dframe"
   ]
  },
  {
   "cell_type": "code",
   "execution_count": 17,
   "metadata": {
    "collapsed": false
   },
   "outputs": [],
   "source": [
    "#Notice we forgot 'C' , lets reindex it into dframe\n",
    "dframe2 = dframe.reindex(['A','B','C','D','E','F'])\n"
   ]
  },
  {
   "cell_type": "code",
   "execution_count": 18,
   "metadata": {
    "collapsed": false
   },
   "outputs": [
    {
     "data": {
      "text/html": [
       "<div style=\"max-height:1000px;max-width:1500px;overflow:auto;\">\n",
       "<table border=\"1\" class=\"dataframe\">\n",
       "  <thead>\n",
       "    <tr style=\"text-align: right;\">\n",
       "      <th></th>\n",
       "      <th>col1</th>\n",
       "      <th>col2</th>\n",
       "      <th>col3</th>\n",
       "      <th>col4</th>\n",
       "      <th>col5</th>\n",
       "      <th>col6</th>\n",
       "    </tr>\n",
       "  </thead>\n",
       "  <tbody>\n",
       "    <tr>\n",
       "      <th>A</th>\n",
       "      <td>-1.452995</td>\n",
       "      <td>-0.521474</td>\n",
       "      <td>-0.678777</td>\n",
       "      <td>0.031410</td>\n",
       "      <td>-1.035644</td>\n",
       "      <td>NaN</td>\n",
       "    </tr>\n",
       "    <tr>\n",
       "      <th>B</th>\n",
       "      <td>-0.358609</td>\n",
       "      <td>0.958648</td>\n",
       "      <td>-0.732270</td>\n",
       "      <td>1.845991</td>\n",
       "      <td>0.301207</td>\n",
       "      <td>NaN</td>\n",
       "    </tr>\n",
       "    <tr>\n",
       "      <th>C</th>\n",
       "      <td>NaN</td>\n",
       "      <td>NaN</td>\n",
       "      <td>NaN</td>\n",
       "      <td>NaN</td>\n",
       "      <td>NaN</td>\n",
       "      <td>NaN</td>\n",
       "    </tr>\n",
       "    <tr>\n",
       "      <th>D</th>\n",
       "      <td>-1.216839</td>\n",
       "      <td>0.784711</td>\n",
       "      <td>-1.257899</td>\n",
       "      <td>0.567645</td>\n",
       "      <td>-1.196860</td>\n",
       "      <td>NaN</td>\n",
       "    </tr>\n",
       "    <tr>\n",
       "      <th>E</th>\n",
       "      <td>1.274616</td>\n",
       "      <td>-0.038463</td>\n",
       "      <td>-0.589243</td>\n",
       "      <td>-0.301562</td>\n",
       "      <td>-0.822738</td>\n",
       "      <td>NaN</td>\n",
       "    </tr>\n",
       "    <tr>\n",
       "      <th>F</th>\n",
       "      <td>1.075749</td>\n",
       "      <td>-2.550443</td>\n",
       "      <td>-1.079883</td>\n",
       "      <td>1.136129</td>\n",
       "      <td>0.700596</td>\n",
       "      <td>NaN</td>\n",
       "    </tr>\n",
       "  </tbody>\n",
       "</table>\n",
       "</div>"
      ],
      "text/plain": [
       "       col1      col2      col3      col4      col5  col6\n",
       "A -1.452995 -0.521474 -0.678777  0.031410 -1.035644   NaN\n",
       "B -0.358609  0.958648 -0.732270  1.845991  0.301207   NaN\n",
       "C       NaN       NaN       NaN       NaN       NaN   NaN\n",
       "D -1.216839  0.784711 -1.257899  0.567645 -1.196860   NaN\n",
       "E  1.274616 -0.038463 -0.589243 -0.301562 -0.822738   NaN\n",
       "F  1.075749 -2.550443 -1.079883  1.136129  0.700596   NaN"
      ]
     },
     "execution_count": 18,
     "metadata": {},
     "output_type": "execute_result"
    }
   ],
   "source": [
    "# Can also explicitly reindex columns\n",
    "new_columns = ['col1','col2','col3','col4','col5','col6']\n",
    "\n",
    "dframe2.reindex(columns=new_columns)"
   ]
  },
  {
   "cell_type": "code",
   "execution_count": 20,
   "metadata": {
    "collapsed": false
   },
   "outputs": [
    {
     "data": {
      "text/html": [
       "<div style=\"max-height:1000px;max-width:1500px;overflow:auto;\">\n",
       "<table border=\"1\" class=\"dataframe\">\n",
       "  <thead>\n",
       "    <tr style=\"text-align: right;\">\n",
       "      <th></th>\n",
       "      <th>col1</th>\n",
       "      <th>col2</th>\n",
       "      <th>col3</th>\n",
       "      <th>col4</th>\n",
       "      <th>col5</th>\n",
       "    </tr>\n",
       "  </thead>\n",
       "  <tbody>\n",
       "    <tr>\n",
       "      <th>A</th>\n",
       "      <td>-1.452995</td>\n",
       "      <td>-0.521474</td>\n",
       "      <td>-0.678777</td>\n",
       "      <td>0.031410</td>\n",
       "      <td>-1.035644</td>\n",
       "    </tr>\n",
       "    <tr>\n",
       "      <th>B</th>\n",
       "      <td>-0.358609</td>\n",
       "      <td>0.958648</td>\n",
       "      <td>-0.732270</td>\n",
       "      <td>1.845991</td>\n",
       "      <td>0.301207</td>\n",
       "    </tr>\n",
       "    <tr>\n",
       "      <th>D</th>\n",
       "      <td>-1.216839</td>\n",
       "      <td>0.784711</td>\n",
       "      <td>-1.257899</td>\n",
       "      <td>0.567645</td>\n",
       "      <td>-1.196860</td>\n",
       "    </tr>\n",
       "    <tr>\n",
       "      <th>E</th>\n",
       "      <td>1.274616</td>\n",
       "      <td>-0.038463</td>\n",
       "      <td>-0.589243</td>\n",
       "      <td>-0.301562</td>\n",
       "      <td>-0.822738</td>\n",
       "    </tr>\n",
       "    <tr>\n",
       "      <th>F</th>\n",
       "      <td>1.075749</td>\n",
       "      <td>-2.550443</td>\n",
       "      <td>-1.079883</td>\n",
       "      <td>1.136129</td>\n",
       "      <td>0.700596</td>\n",
       "    </tr>\n",
       "  </tbody>\n",
       "</table>\n",
       "</div>"
      ],
      "text/plain": [
       "       col1      col2      col3      col4      col5\n",
       "A -1.452995 -0.521474 -0.678777  0.031410 -1.035644\n",
       "B -0.358609  0.958648 -0.732270  1.845991  0.301207\n",
       "D -1.216839  0.784711 -1.257899  0.567645 -1.196860\n",
       "E  1.274616 -0.038463 -0.589243 -0.301562 -0.822738\n",
       "F  1.075749 -2.550443 -1.079883  1.136129  0.700596"
      ]
     },
     "execution_count": 20,
     "metadata": {},
     "output_type": "execute_result"
    }
   ],
   "source": [
    "#Reindex quickly using the label-indexing with ix (we'll see this more in the future)\n",
    "\n",
    "#Show original\n",
    "dframe"
   ]
  },
  {
   "cell_type": "code",
   "execution_count": 21,
   "metadata": {
    "collapsed": false
   },
   "outputs": [
    {
     "data": {
      "text/html": [
       "<div style=\"max-height:1000px;max-width:1500px;overflow:auto;\">\n",
       "<table border=\"1\" class=\"dataframe\">\n",
       "  <thead>\n",
       "    <tr style=\"text-align: right;\">\n",
       "      <th></th>\n",
       "      <th>col1</th>\n",
       "      <th>col2</th>\n",
       "      <th>col3</th>\n",
       "      <th>col4</th>\n",
       "      <th>col5</th>\n",
       "      <th>col6</th>\n",
       "    </tr>\n",
       "  </thead>\n",
       "  <tbody>\n",
       "    <tr>\n",
       "      <th>A</th>\n",
       "      <td>-1.452995</td>\n",
       "      <td>-0.521474</td>\n",
       "      <td>-0.678777</td>\n",
       "      <td>0.031410</td>\n",
       "      <td>-1.035644</td>\n",
       "      <td>NaN</td>\n",
       "    </tr>\n",
       "    <tr>\n",
       "      <th>B</th>\n",
       "      <td>-0.358609</td>\n",
       "      <td>0.958648</td>\n",
       "      <td>-0.732270</td>\n",
       "      <td>1.845991</td>\n",
       "      <td>0.301207</td>\n",
       "      <td>NaN</td>\n",
       "    </tr>\n",
       "    <tr>\n",
       "      <th>C</th>\n",
       "      <td>NaN</td>\n",
       "      <td>NaN</td>\n",
       "      <td>NaN</td>\n",
       "      <td>NaN</td>\n",
       "      <td>NaN</td>\n",
       "      <td>NaN</td>\n",
       "    </tr>\n",
       "    <tr>\n",
       "      <th>D</th>\n",
       "      <td>-1.216839</td>\n",
       "      <td>0.784711</td>\n",
       "      <td>-1.257899</td>\n",
       "      <td>0.567645</td>\n",
       "      <td>-1.196860</td>\n",
       "      <td>NaN</td>\n",
       "    </tr>\n",
       "    <tr>\n",
       "      <th>E</th>\n",
       "      <td>1.274616</td>\n",
       "      <td>-0.038463</td>\n",
       "      <td>-0.589243</td>\n",
       "      <td>-0.301562</td>\n",
       "      <td>-0.822738</td>\n",
       "      <td>NaN</td>\n",
       "    </tr>\n",
       "    <tr>\n",
       "      <th>F</th>\n",
       "      <td>1.075749</td>\n",
       "      <td>-2.550443</td>\n",
       "      <td>-1.079883</td>\n",
       "      <td>1.136129</td>\n",
       "      <td>0.700596</td>\n",
       "      <td>NaN</td>\n",
       "    </tr>\n",
       "  </tbody>\n",
       "</table>\n",
       "</div>"
      ],
      "text/plain": [
       "       col1      col2      col3      col4      col5  col6\n",
       "A -1.452995 -0.521474 -0.678777  0.031410 -1.035644   NaN\n",
       "B -0.358609  0.958648 -0.732270  1.845991  0.301207   NaN\n",
       "C       NaN       NaN       NaN       NaN       NaN   NaN\n",
       "D -1.216839  0.784711 -1.257899  0.567645 -1.196860   NaN\n",
       "E  1.274616 -0.038463 -0.589243 -0.301562 -0.822738   NaN\n",
       "F  1.075749 -2.550443 -1.079883  1.136129  0.700596   NaN"
      ]
     },
     "execution_count": 21,
     "metadata": {},
     "output_type": "execute_result"
    }
   ],
   "source": [
    "dframe.ix[['A','B','C','D','E','F'],new_columns]"
   ]
  },
  {
   "cell_type": "code",
   "execution_count": null,
   "metadata": {
    "collapsed": false
   },
   "outputs": [],
   "source": []
  }
 ],
 "metadata": {
  "kernelspec": {
   "display_name": "Python 2",
   "language": "python",
   "name": "python2"
  },
  "language_info": {
   "codemirror_mode": {
    "name": "ipython",
    "version": 2
   },
   "file_extension": ".py",
   "mimetype": "text/x-python",
   "name": "python",
   "nbconvert_exporter": "python",
   "pygments_lexer": "ipython2",
   "version": "2.7.9"
  }
 },
 "nbformat": 4,
 "nbformat_minor": 0
}
